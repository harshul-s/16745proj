{
 "cells": [
  {
   "cell_type": "code",
   "execution_count": 3,
   "metadata": {},
   "outputs": [
    {
     "name": "stderr",
     "output_type": "stream",
     "text": [
      "\u001b[32m\u001b[1m  Activating\u001b[22m\u001b[39m environment at `~/Desktop/16745/recitations-2024/16745proj/Project.toml`\n"
     ]
    }
   ],
   "source": [
    "import Pkg; \n",
    "Pkg.instantiate()\n",
    "Pkg.activate(\".\")\n",
    "import MeshCat as mc \n",
    "using LinearAlgebra"
   ]
  },
  {
   "cell_type": "code",
   "execution_count": 10,
   "metadata": {},
   "outputs": [
    {
     "data": {
      "text/plain": [
       "get_dcm_from_ends (generic function with 1 method)"
      ]
     },
     "metadata": {},
     "output_type": "display_data"
    }
   ],
   "source": [
    "# getting rotation matrix from axis-angle vectors\n",
    "function skew(v)\n",
    "    [0 -v[3] v[2]; v[3] 0 -v[1]; -v[2] v[1] 0]\n",
    "end\n",
    "function dcm_from_phi(ϕ)\n",
    "    # rotation matrix from axis angle \n",
    "    # phi = r * θ, where theta is the axis of rotation (unit vector)\n",
    "    # and θ = the angle of rotation\n",
    "    theta = norm(ϕ)\n",
    "    r = (abs(theta)>1e-12) ? ϕ/theta : zeros(3)\n",
    "    Q = (I + sin(theta) * skew(r) + (1.0 - cos(theta)) *\n",
    "    skew(r) * skew(r))\n",
    "    return Q \n",
    "end\n",
    "\n",
    "# create a cylinder from a length and a radius \n",
    "function create_cyl(vis, len, R)\n",
    "    # x axis aligned \n",
    "    a = [-len/2, 0, 0]\n",
    "    b = [+len/2, 0, 0]\n",
    "    cyl = mc.Cylinder(mc.Point(a...), mc.Point(b...), R)\n",
    "    material = mc.MeshPhongMaterial(color=mc.RGBA(1.0, 0.0, 0.0, 1.0))\n",
    "    mc.setobject!(vis[:rope], cyl, material)\n",
    "end\n",
    "\n",
    "function create_rope(vis, len, R)\n",
    "    # x axis aligned \n",
    "    a = [-len/2, 0, 0]\n",
    "    b = [+len/2, 0, 0]\n",
    "    cyl = mc.Cylinder(mc.Point(a...), mc.Point(b...), R)\n",
    "    material = mc.MeshPhongMaterial(color=mc.RGBA(1.0, 0.0, 0.0, 1.0))\n",
    "    return cyl,material\n",
    "end\n",
    "\n",
    "function get_dcm_from_ends(a, b)\n",
    "    # get a rotation matrix from ends of a cylinder \n",
    "    nx = normalize(b - a)\n",
    "    e = [1.242,4.242,-3.424]  \n",
    "    # taking a cross product with random e gives us a new vector \n",
    "    # that is orthogonal to both nx and e. We make this ny \n",
    "    ny = normalize(cross(nx, e))\n",
    "    nz = normalize(cross(nx, ny))\n",
    "    \n",
    "    N_Q_B = [nx ny nz]\n",
    "end"
   ]
  },
  {
   "cell_type": "code",
   "execution_count": 30,
   "metadata": {},
   "outputs": [
    {
     "name": "stderr",
     "output_type": "stream",
     "text": [
      "┌ Info: Listening on: 127.0.0.1:8713, thread id: 1\n",
      "└ @ HTTP.Servers /Users/harshul/.julia/packages/HTTP/vnQzp/src/Servers.jl:382\n",
      "┌ Info: MeshCat server started. You can open the visualizer by visiting the following URL in your browser:\n",
      "│ http://127.0.0.1:8713\n",
      "└ @ MeshCat /Users/harshul/.julia/packages/MeshCat/QXID5/src/visualizer.jl:64\n"
     ]
    },
    {
     "data": {
      "text/html": [
       "    <div style=\"height: 500px; width: 100%; overflow-x: auto; overflow-y: hidden; resize: both\">\n",
       "    <iframe src=\"http://127.0.0.1:8713\" style=\"width: 100%; height: 100%; border: none\"></iframe>\n",
       "    </div>\n"
      ],
      "text/plain": [
       "MeshCat.DisplayedVisualizer(MeshCat.CoreVisualizer(MeshCat.SceneTrees.SceneNode(nothing, nothing, Dict{String, Vector{UInt8}}(), UInt8[0x83, 0xa7, 0x6f, 0x70, 0x74, 0x69, 0x6f, 0x6e, 0x73, 0x82  …  0x5f, 0x61, 0x6e, 0x69, 0x6d, 0x61, 0x74, 0x69, 0x6f, 0x6e], Dict{String, MeshCat.SceneTrees.SceneNode}(\"meshcat\" => MeshCat.SceneTrees.SceneNode(nothing, nothing, Dict{String, Vector{UInt8}}(), nothing, Dict{String, MeshCat.SceneTrees.SceneNode}(\"rope2\" => MeshCat.SceneTrees.SceneNode(UInt8[0x83, 0xa6, 0x6f, 0x62, 0x6a, 0x65, 0x63, 0x74, 0x84, 0xaa  …  0x68, 0x63, 0x61, 0x74, 0x2f, 0x72, 0x6f, 0x70, 0x65, 0x32], nothing, Dict{String, Vector{UInt8}}(), nothing, Dict{String, MeshCat.SceneTrees.SceneNode}()), \"quad4\" => MeshCat.SceneTrees.SceneNode(nothing, nothing, Dict{String, Vector{UInt8}}(), nothing, Dict{String, MeshCat.SceneTrees.SceneNode}(\"base\" => MeshCat.SceneTrees.SceneNode(UInt8[0x83, 0xa6, 0x6f, 0x62, 0x6a, 0x65, 0x63, 0x74, 0x84, 0xaa  …  0x71, 0x75, 0x61, 0x64, 0x34, 0x2f, 0x62, 0x61, 0x73, 0x65], UInt8[0x83, 0xa6, 0x6d, 0x61, 0x74, 0x72, 0x69, 0x78, 0xc7, 0x40  …  0x71, 0x75, 0x61, 0x64, 0x34, 0x2f, 0x62, 0x61, 0x73, 0x65], Dict{String, Vector{UInt8}}(), nothing, Dict{String, MeshCat.SceneTrees.SceneNode}()))), \"dragon\" => MeshCat.SceneTrees.SceneNode(nothing, nothing, Dict{String, Vector{UInt8}}(), nothing, Dict{String, MeshCat.SceneTrees.SceneNode}(\"base\" => MeshCat.SceneTrees.SceneNode(UInt8[0x83, 0xa6, 0x6f, 0x62, 0x6a, 0x65, 0x63, 0x74, 0x84, 0xaa  …  0x72, 0x61, 0x67, 0x6f, 0x6e, 0x2f, 0x62, 0x61, 0x73, 0x65], UInt8[0x83, 0xa6, 0x6d, 0x61, 0x74, 0x72, 0x69, 0x78, 0xc7, 0x40  …  0x72, 0x61, 0x67, 0x6f, 0x6e, 0x2f, 0x62, 0x61, 0x73, 0x65], Dict{String, Vector{UInt8}}(), nothing, Dict{String, MeshCat.SceneTrees.SceneNode}()))), \"quad1\" => MeshCat.SceneTrees.SceneNode(nothing, nothing, Dict{String, Vector{UInt8}}(), nothing, Dict{String, MeshCat.SceneTrees.SceneNode}(\"base\" => MeshCat.SceneTrees.SceneNode(UInt8[0x83, 0xa6, 0x6f, 0x62, 0x6a, 0x65, 0x63, 0x74, 0x84, 0xaa  …  0x71, 0x75, 0x61, 0x64, 0x31, 0x2f, 0x62, 0x61, 0x73, 0x65], UInt8[0x83, 0xa6, 0x6d, 0x61, 0x74, 0x72, 0x69, 0x78, 0xc7, 0x40  …  0x71, 0x75, 0x61, 0x64, 0x31, 0x2f, 0x62, 0x61, 0x73, 0x65], Dict{String, Vector{UInt8}}(), nothing, Dict{String, MeshCat.SceneTrees.SceneNode}()))), \"rope\" => MeshCat.SceneTrees.SceneNode(UInt8[0x83, 0xa6, 0x6f, 0x62, 0x6a, 0x65, 0x63, 0x74, 0x84, 0xaa  …  0x73, 0x68, 0x63, 0x61, 0x74, 0x2f, 0x72, 0x6f, 0x70, 0x65], nothing, Dict{String, Vector{UInt8}}(), nothing, Dict{String, MeshCat.SceneTrees.SceneNode}()), \"quad3\" => MeshCat.SceneTrees.SceneNode(nothing, nothing, Dict{String, Vector{UInt8}}(), nothing, Dict{String, MeshCat.SceneTrees.SceneNode}(\"base\" => MeshCat.SceneTrees.SceneNode(UInt8[0x83, 0xa6, 0x6f, 0x62, 0x6a, 0x65, 0x63, 0x74, 0x84, 0xaa  …  0x71, 0x75, 0x61, 0x64, 0x33, 0x2f, 0x62, 0x61, 0x73, 0x65], UInt8[0x83, 0xa6, 0x6d, 0x61, 0x74, 0x72, 0x69, 0x78, 0xc7, 0x40  …  0x71, 0x75, 0x61, 0x64, 0x33, 0x2f, 0x62, 0x61, 0x73, 0x65], Dict{String, Vector{UInt8}}(), nothing, Dict{String, MeshCat.SceneTrees.SceneNode}()))), \"quad2\" => MeshCat.SceneTrees.SceneNode(nothing, nothing, Dict{String, Vector{UInt8}}(), nothing, Dict{String, MeshCat.SceneTrees.SceneNode}(\"base\" => MeshCat.SceneTrees.SceneNode(UInt8[0x83, 0xa6, 0x6f, 0x62, 0x6a, 0x65, 0x63, 0x74, 0x84, 0xaa  …  0x71, 0x75, 0x61, 0x64, 0x32, 0x2f, 0x62, 0x61, 0x73, 0x65], UInt8[0x83, 0xa6, 0x6d, 0x61, 0x74, 0x72, 0x69, 0x78, 0xc7, 0x40  …  0x71, 0x75, 0x61, 0x64, 0x32, 0x2f, 0x62, 0x61, 0x73, 0x65], Dict{String, Vector{UInt8}}(), nothing, Dict{String, MeshCat.SceneTrees.SceneNode}()))))))), Set{HTTP.WebSockets.WebSocket}(), ip\"127.0.0.1\", 8713, HTTP.Servers.Server{HTTP.Servers.Listener{Nothing, Sockets.TCPServer}}(HTTP.Servers.Listener{Nothing, Sockets.TCPServer}(Sockets.InetAddr{Sockets.IPv4}(ip\"127.0.0.1\", 8713), \"127.0.0.1\", \"8713\", nothing, Sockets.TCPServer(RawFD(110) active)), nothing, Set{HTTP.Connections.Connection}(), Task (runnable) @0x00000001897d3970, ReentrantLock(nothing, Base.GenericCondition{Base.Threads.SpinLock}(Base.InvasiveLinkedList{Task}(nothing, nothing), Base.Threads.SpinLock(0)), 0))))"
      ]
     },
     "metadata": {},
     "output_type": "display_data"
    }
   ],
   "source": [
    "let \n",
    "    vis = mc.Visualizer()\n",
    "    \n",
    "    # NOTICE HOW I USE [:<OBJECT>][:base] WHEN DEFINING THE INITIAL OBJ OFFSETS \n",
    "    # THEN WHEN I DO ANIMATION, I JUST USE [:<OBJECT>]\n",
    "    \n",
    "    # dragon details (play with these to see how they change)\n",
    "    dragon_obj = mc.HyperSphere(mc.Point(0.0,0.0,0.0), 0.5)\n",
    "    dragon_material = mc.MeshPhongMaterial(color=mc.RGBA(0.6, 0.6, 1.0, 0.7))\n",
    "    dragon_r_offset = [0,0,0]\n",
    "    dragon_Q_offset = dcm_from_phi(pi/2*[1,0,0])\n",
    "    dragon_offset = mc.compose(\n",
    "        mc.Translation(dragon_r_offset),\n",
    "        mc.LinearMap(dragon_Q_offset)\n",
    "    )\n",
    "    \n",
    "    # create first dragon \n",
    "    mc.setobject!(vis[:dragon][:base], dragon_obj, dragon_material) # NOTE :base\n",
    "    mc.settransform!(vis[:dragon][:base], dragon_offset)            # NOTE :base\n",
    "    \n",
    "    # quadrotor details (play with these to see how they change)\n",
    "    quad_obj = mc.MeshFileGeometry(joinpath(@__DIR__,\"quadrotor.obj\"))\n",
    "    quad_material = mc.MeshPhongMaterial(color=mc.RGBA(1.0, 0.6, 0.6, 0.7))\n",
    "    quad_r_offset = [0,0,0]\n",
    "    quad_scale = 2.5 \n",
    "    quad_Q_offset = dcm_from_phi([0,0,0])\n",
    "    quad_offset = mc.compose(\n",
    "        mc.Translation(quad_r_offset),\n",
    "        mc.LinearMap(quad_scale * quad_Q_offset)\n",
    "    )\n",
    "    \n",
    "    # create quadrotor \n",
    "    # mc.setobject!(vis[:quad][:base], quad_obj, quad_material)       # NOTE :base\n",
    "    # mc.settransform!(vis[:quad][:base], quad_offset)                # NOTE :base\n",
    "\n",
    "    # quad_offset = mc.compose(\n",
    "    #     mc.Translation([1,1,0]),\n",
    "    #     mc.LinearMap(quad_scale * quad_Q_offset)\n",
    "    # )\n",
    "\n",
    "    # mc.setobject!(vis[:quad2][:base], quad_obj, quad_material)      \n",
    "    # mc.settransform!(vis[:quad2][:base], quad_offset)               \n",
    "     \n",
    "    # create rope between them\n",
    "    rope_length = 5.0 \n",
    "    create_cyl(vis, rope_length, 0.05)\n",
    "    \n",
    "    cyl,material=create_rope(vis,rope_length,0.05)\n",
    "    mc.setobject!(vis[:rope2], cyl, material)\n",
    "    \n",
    "    # animation \n",
    "    tf = 10.0 \n",
    "    N = 100 \n",
    "    t_vec = range(0.0, tf, length=N)\n",
    "    dt = t_vec[2] - t_vec[1]\n",
    "    \n",
    "    # position of dragon \n",
    "    r_dragon = [[cos(t), sin(t), sin(t)] for t in t_vec]\n",
    "    r_quad = [r + rope_length*normalize([1 + cos(t), -1 + cos(t), -.3 + cos(t)]) for (r,t) in zip(r_dragon,t_vec)]\n",
    "    r_quad2 = [r + rope_length*normalize([1 - cos(t), 1 + sin(t), -.3 - sin(t)]) for (r,t) in zip(r_dragon, t_vec)]\n",
    " \n",
    "    for (a,b) in zip(r_dragon, r_quad)\n",
    "        @assert norm(a - b) ≈ rope_length\n",
    "    end\n",
    "    \n",
    "\n",
    "    N=4\n",
    "    for i=1:N\n",
    "        quad_offset = mc.compose(\n",
    "            mc.Translation([3*cos(i*2*pi/N),3*sin(i*2pi/N),0.5]),\n",
    "            mc.LinearMap(quad_scale * quad_Q_offset)\n",
    "        )\n",
    "        mc.setobject!(vis[Symbol(\"quad\",i)][:base], quad_obj, quad_material)      \n",
    "        mc.settransform!(vis[Symbol(\"quad\",i)][:base], quad_offset)              \n",
    "        # mc.setobject!(vis[Symbol(\"rope\",i)], cyl, material)  \n",
    "        # rope_Qs = [get_dcm_from_ends(a, b) for (a,b) in zip(r_dragon, r_quad)]\n",
    "    end\n",
    "    rope_rs = [(a + b) / 2 for (a,b) in zip(r_dragon, r_quad)]\n",
    "\n",
    "    rope2_Qs = [get_dcm_from_ends(a, b) for (a,b) in zip(r_dragon, r_quad2)]\n",
    "    rope2_rs = [(a + b) / 2 for (a,b) in zip(r_dragon, r_quad2)]\n",
    "    \n",
    "    # make up attitudes for dragon and quad\n",
    "    \n",
    "    # create_cyl(vis, rope_length, 0.05)dragon_Qs = [dcm_from_phi(θ * [1, .2, .3]) for θ in range(0.0, pi/2, length=N)]\n",
    "    quad_Qs = [dcm_from_phi(θ * [-.1, 1, -.3]) for θ in range(0.0, pi/2, length=N)]\n",
    "\n",
    "    # animate \n",
    "    anim = mc.Animation(floor(Int,1/dt))\n",
    "        for k = 1:N\n",
    "            mc.atframe(anim, k) do\n",
    "                # NOTE no :base\n",
    "                # mc.settransform!(vis[:dragon], mc.compose(  \n",
    "                #     mc.Translation(r_dragon[k]),\n",
    "                #     mc.LinearMap(dragon_Qs[k])\n",
    "                # ))\n",
    "                # # NOTE no :base\n",
    "                # mc.settransform!(vis[:quad], mc.compose(\n",
    "                #     mc.Translation(r_quad[k]),\n",
    "                #     mc.LinearMap(quad_Qs[k])\n",
    "                # ))\n",
    "                # mc.settransform!(vis[:quad2], mc.compose(\n",
    "                #     mc.Translation(r_quad2[k]),\n",
    "                #     mc.LinearMap(quad_Qs[k])\n",
    "                # ))\n",
    "            \n",
    "                # mc.settransform!(vis[:rope], mc.compose(\n",
    "                #     mc.Translation(rope_rs[k]),\n",
    "                #     mc.LinearMap(rope_Qs[k])\n",
    "                # ))\n",
    "                # mc.settransform!(vis[:rope2], mc.compose(\n",
    "                #     mc.Translation(rope2_rs[k]),\n",
    "                #     mc.LinearMap(rope2_Qs[k])\n",
    "                # ))\n",
    "            end\n",
    "        end\n",
    "    mc.setanimation!(vis, anim)\n",
    "    mc.render(vis)\n",
    "end"
   ]
  },
  {
   "cell_type": "code",
   "execution_count": null,
   "metadata": {},
   "outputs": [],
   "source": []
  }
 ],
 "metadata": {
  "kernelspec": {
   "display_name": "Julia 1.6.7",
   "language": "julia",
   "name": "julia-1.6"
  },
  "language_info": {
   "file_extension": ".jl",
   "mimetype": "application/julia",
   "name": "julia",
   "version": "1.6.7"
  }
 },
 "nbformat": 4,
 "nbformat_minor": 2
}
