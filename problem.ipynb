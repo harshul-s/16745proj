{
 "cells": [
  {
   "cell_type": "code",
   "execution_count": null,
   "metadata": {},
   "outputs": [],
   "source": []
  },
  {
   "cell_type": "code",
   "execution_count": 4,
   "metadata": {},
   "outputs": [
    {
     "name": "stderr",
     "output_type": "stream",
     "text": [
      "\u001b[32m\u001b[1m  Activating\u001b[22m\u001b[39m environment at `~/Desktop/16745/recitations-2024/16745proj/Project.toml`\n"
     ]
    },
    {
     "data": {
      "text/plain": [
       "create_idx (generic function with 1 method)"
      ]
     },
     "metadata": {},
     "output_type": "display_data"
    }
   ],
   "source": [
    "import Pkg\n",
    "Pkg.activate(@__DIR__)\n",
    "Pkg.instantiate()\n",
    "import MathOptInterface as MOI\n",
    "import Ipopt\n",
    "import FiniteDiff\n",
    "import ForwardDiff as FD\n",
    "import Convex as cvx\n",
    "import ECOS\n",
    "using LinearAlgebra\n",
    "using Plots\n",
    "using Random\n",
    "using JLD2\n",
    "using Test\n",
    "using MeshCat\n",
    "const mc = MeshCat\n",
    "using StaticArrays\n",
    "using Printf\n",
    "\n",
    "include(joinpath(@__DIR__, \"utils\", \"fmincon.jl\"))\n",
    "include(joinpath(@__DIR__, \"utils\", \"quaternions.jl\"))\n",
    "include(joinpath(@__DIR__, \"utils\", \"util.jl\"))"
   ]
  },
  {
   "cell_type": "code",
   "execution_count": 6,
   "metadata": {},
   "outputs": [
    {
     "data": {
      "text/plain": [
       "(nx = 58, nu = 24, N = 45, nz = 3666, nc = 2552, x = UnitRange{Int64}[1:58, 83:140, 165:222, 247:304, 329:386, 411:468, 493:550, 575:632, 657:714, 739:796  …  2871:2928, 2953:3010, 3035:3092, 3117:3174, 3199:3256, 3281:3338, 3363:3420, 3445:3502, 3527:3584, 3609:3666], u = UnitRange{Int64}[59:82, 141:164, 223:246, 305:328, 387:410, 469:492, 551:574, 633:656, 715:738, 797:820  …  2847:2870, 2929:2952, 3011:3034, 3093:3116, 3175:3198, 3257:3280, 3339:3362, 3421:3444, 3503:3526, 3585:3608], c = UnitRange{Int64}[1:58, 59:116, 117:174, 175:232, 233:290, 291:348, 349:406, 407:464, 465:522, 523:580  …  1973:2030, 2031:2088, 2089:2146, 2147:2204, 2205:2262, 2263:2320, 2321:2378, 2379:2436, 2437:2494, 2495:2552])"
      ]
     },
     "metadata": {},
     "output_type": "display_data"
    }
   ],
   "source": [
    "#--------PLACEHOLDER\n",
    "tf = 10\n",
    "dt = 0.1\n",
    "t_vec = 0:dt:tf\n",
    "N = length(t_vec)\n",
    "#-----------------\n",
    "\n",
    "L = NUM_QUAD = 4\n",
    "nx = 13 * L + 6\n",
    "nu = 6 * L + L # 5 true controls + 'slack' variable to normalize quat\n",
    "idx = create_idx(nx, nu, N)"
   ]
  },
  {
   "cell_type": "code",
   "execution_count": 21,
   "metadata": {},
   "outputs": [
    {
     "data": {
      "text/plain": [
       "load_costs (generic function with 2 methods)"
      ]
     },
     "metadata": {},
     "output_type": "display_data"
    }
   ],
   "source": [
    "function quad_costs(n_lift, m_lift, scenario=:p2pa)\n",
    "    if scenario == :hover\n",
    "        q_diag = 10.0 * ones(n_lift)\n",
    "        q_diag[4:7] .= 1e-6\n",
    "\n",
    "        r_diag = 1.0e-3 * ones(m_lift)\n",
    "        r_diag[end] = 1\n",
    "\n",
    "        qf_diag = copy(q_diag) * 10.0\n",
    "    elseif scenario == :p2pa\n",
    "        q_diag = 1.0 * ones(n_lift)\n",
    "        q_diag[1] = 1e-5\n",
    "        # q_diag[4:7] .*= 25.0\n",
    "        # q_diag\n",
    "\n",
    "        r_diag = 1.0e-3 * ones(m_lift)\n",
    "        # r_diag = 1.0e-3*ones(m_lift)\n",
    "        r_diag[end] = 1\n",
    "\n",
    "        qf_diag = 100 * ones(n_lift)\n",
    "    else\n",
    "        q_diag = 1e-1 * ones(n_lift)\n",
    "        q_diag[1] = 1e-3\n",
    "        q_diag[4:7] .*= 25.0\n",
    "\n",
    "        r_diag = 2.0e-3 * ones(m_lift)\n",
    "\n",
    "        # r_diag = 1.0e-3*ones(m_lift)\n",
    "        r_diag[end] = 1\n",
    "\n",
    "        qf_diag = 100 * ones(n_lift)\n",
    "    end\n",
    "    return q_diag, r_diag, qf_diag\n",
    "end\n",
    "\n",
    "function load_costs(n_load, m_load, scenario=:p2pa)\n",
    "    if scenario == :hover\n",
    "        q_diag = 10.0 * ones(n_load) #\n",
    "\n",
    "        r_diag = 1 * ones(m_load)\n",
    "        qf_diag = 10.0 * ones(n_load)\n",
    "    elseif scenario == :p2p\n",
    "        q_diag = 1.0 * ones(n_load) #\n",
    "\n",
    "        # q_diag = 0*ones(n_load)\n",
    "        q_diag[1] = 1.0e-5\n",
    "        r_diag = 1 * ones(m_load)\n",
    "        qf_diag = 0.0 * ones(n_load)\n",
    "\n",
    "        # q_diag = 1000.0*ones(n_load)\n",
    "        # r_diag = 1*ones(m_load)\n",
    "        # qf_diag = 1000.0*ones(n_load)\n",
    "    else\n",
    "        q_diag = 0.5e-1 * ones(n_load) #\n",
    "\n",
    "        # q_diag = 0*ones(n_load)\n",
    "        # q_diag[1] = 1e-3\n",
    "        r_diag = 1 * ones(m_load)\n",
    "        qf_diag = 0.0 * ones(n_load)\n",
    "\n",
    "        # q_diag = 1000.0*ones(n_load)\n",
    "        # r_diag = 1*ones(m_load)\n",
    "        # qf_diag = 1000.0*ones(n_load)\n",
    "\n",
    "    end\n",
    "    return q_diag, r_diag, qf_diag\n",
    "end\n"
   ]
  },
  {
   "cell_type": "code",
   "execution_count": 16,
   "metadata": {},
   "outputs": [
    {
     "data": {
      "text/plain": [
       "quad_cost (generic function with 1 method)"
      ]
     },
     "metadata": {},
     "output_type": "display_data"
    }
   ],
   "source": [
    "function quad_cost(params::NamedTuple, Z::Vector)::Real\n",
    "    idx, N = params.idx, params.N\n",
    "    Q, R, Qf = params.Q, params.R, params.Qf\n",
    "\n",
    "    #xg should be a stacked vector of goals [x1g;x2g;x3g...]\n",
    "    xg = params.xg\n",
    "\n",
    "\n",
    "    #LQR cost \n",
    "    J = 0\n",
    "    for i = 1:(N-1)\n",
    "        xi = Z[idx.x[i]]\n",
    "        ui = Z[idx.u[i]]\n",
    "\n",
    "        J += 0.5 * (xi - xg)' * Q * (xi - xg)\n",
    "        J += 0.5 * ui' * R * ui\n",
    "\n",
    "    end\n",
    "\n",
    "    # dont forget terminal cost \n",
    "    J += 0.5 * (Z[idx.x[N]] - xg)' * Q * (Z[idx.x[N]] - xg)\n",
    "\n",
    "    return J\n",
    "end\n",
    "\n",
    "#To add to params/model:\n",
    "n_lift = 13\n",
    "m_lift = 6 #5 + 1 for quaternion slack variable \n",
    "n_load = 6\n",
    "m_load = NUM_QUAD # num quad /L"
   ]
  },
  {
   "cell_type": "code",
   "execution_count": 24,
   "metadata": {},
   "outputs": [
    {
     "ename": "UndefVarError",
     "evalue": "UndefVarError: model not defined",
     "output_type": "error",
     "traceback": [
      "UndefVarError: model not defined\n",
      "\n",
      "Stacktrace:\n",
      " [1] top-level scope\n",
      "   @ ~/Desktop/16745/recitations-2024/16745proj/problem.ipynb:1"
     ]
    }
   ],
   "source": [
    "params = (\n",
    "    model=model,\n",
    "    nx=nx,\n",
    "    nu=nu,\n",
    "    tf=tf,\n",
    "    dt=dt,\n",
    "    t_vec=t_vec,\n",
    "    N=N,\n",
    "    M1=M1,\n",
    "    M2=M2,\n",
    "    J1=J1,\n",
    "    J2=J2,\n",
    "    xic=xic,\n",
    "    xg=xg,\n",
    "    idx=idx,\n",
    "    Q=Q, R=R, Qf=Qf,\n",
    "    Xref=Xref,\n",
    "    Uref=Uref,\n",
    "    n_lift=13,\n",
    "    m_lift=6, #5 + 1 for quaternion slack variable \n",
    "    n_load=6,\n",
    "    m_load=NUM_QUAD # num quad /L\n",
    ")\n",
    "model = (lift=quad_params, load=load_params)\n",
    "\n",
    "function quad_cost(params::NamedTuple, Z::Vector)::Real\n",
    "    # cost function \n",
    "    idx, N, xg = params.idx, params.N, params.xg\n",
    "    Q, R, Qf = params.Q, params.R, params.Qf\n",
    "    Xref, Uref = params.Xref, params.Uref\n",
    "\n",
    "    # TODO: input walker LQR cost \n",
    "\n",
    "    J = 0\n",
    "    for i = 1:N-1\n",
    "        J += 0.5 * (Z[idx.x[i]] - Xref[i])' * Q * (Z[idx.x[i]] - Xref[i]) +\n",
    "             0.5 * (Z[idx.u[i]] - Uref[i])' * R * (Z[idx.u[i]] - Uref[i])\n",
    "    end\n",
    "    J += 0.5 * (Z[idx.x[N]] - Xref[N])' * Qf * (Z[idx.x[N]] - Xref[N])\n",
    "\n",
    "\n",
    "    return J\n",
    "end\n",
    "\n",
    "function dynamics_constraints(params::NamedTuple, Z::Vector)::Vector\n",
    "    idx, N, dt = params.idx, params.N, params.dt\n",
    "    M1, M2 = params.M1, params.M2\n",
    "    J1, J2 = params.J1, params.J2\n",
    "    model = params.model\n",
    "\n",
    "    # create c in a ForwardDiff friendly way (check HW0)\n",
    "    c = zeros(eltype(Z), idx.nc)\n",
    "\n",
    "    for i = 1:N-1\n",
    "        #3\n",
    "        xk = Z[idx.x[i]]\n",
    "        uk = Z[idx.u[i]]\n",
    "        c[idx.c[i]] = Z[idx.x[i+1]] - rk4(model, combined_system_dynamics, xk, uk, dt)\n",
    "    end\n",
    "\n",
    "\n",
    "    return c\n",
    "end"
   ]
  },
  {
   "cell_type": "code",
   "execution_count": null,
   "metadata": {},
   "outputs": [],
   "source": [
    "function quad_obstacle_proximity_constraints(params::NamedTuple, Z::Vector, obstacle_positions::Vector{Vector}):: Vector\n",
    "    idx, N, dt = params.idx, params.N, params.dt\n",
    "    NUM_QUAD = params.NUM_QUAD\n",
    "    #Assuming obstacle positions is of form [[x1,y1],[x2,y2]]\n",
    "    for i=1:N: #Each timestep\n",
    "        xi = Z[idx.x[i]]\n",
    "        xi_quads = [xi[(quad-1)*13 + 1:13*quad] for quad=1:NUM_QUAD]\n",
    "        \n",
    "\n",
    "    end\n",
    "end\n",
    "\n",
    "function inequality_constraints(params::NamedTuple, Z)\n",
    "end"
   ]
  },
  {
   "cell_type": "code",
   "execution_count": null,
   "metadata": {},
   "outputs": [],
   "source": []
  }
 ],
 "metadata": {
  "kernelspec": {
   "display_name": "Julia 1.6.7",
   "language": "julia",
   "name": "julia-1.6"
  },
  "language_info": {
   "file_extension": ".jl",
   "mimetype": "application/julia",
   "name": "julia",
   "version": "1.6.7"
  }
 },
 "nbformat": 4,
 "nbformat_minor": 2
}
